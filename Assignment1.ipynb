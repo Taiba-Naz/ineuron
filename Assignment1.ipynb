{
  "nbformat": 4,
  "nbformat_minor": 0,
  "metadata": {
    "colab": {
      "name": "Assignment1.ipynb",
      "provenance": [],
      "authorship_tag": "ABX9TyNjijJsvk4/4xChwWmreMq9",
      "include_colab_link": true
    },
    "kernelspec": {
      "name": "python3",
      "display_name": "Python 3"
    },
    "language_info": {
      "name": "python"
    }
  },
  "cells": [
    {
      "cell_type": "markdown",
      "metadata": {
        "id": "view-in-github",
        "colab_type": "text"
      },
      "source": [
        "<a href=\"https://colab.research.google.com/github/Taiba-Naz/ineuron/blob/main/Assignment1.ipynb\" target=\"_parent\"><img src=\"https://colab.research.google.com/assets/colab-badge.svg\" alt=\"Open In Colab\"/></a>"
      ]
    },
    {
      "cell_type": "markdown",
      "metadata": {
        "id": "tyXnDR_AMU4l"
      },
      "source": [
        "1.\tWrite a Python program to print \"Hello Python\"?"
      ]
    },
    {
      "cell_type": "code",
      "metadata": {
        "colab": {
          "base_uri": "https://localhost:8080/"
        },
        "id": "joQyWilYLU1I",
        "outputId": "4a1fbd8f-e198-4fb5-cd57-f69da5db9f84"
      },
      "source": [
        "print(\"Hello Python\")"
      ],
      "execution_count": null,
      "outputs": [
        {
          "output_type": "stream",
          "name": "stdout",
          "text": [
            "Hello Python\n"
          ]
        }
      ]
    },
    {
      "cell_type": "markdown",
      "metadata": {
        "id": "y8Ajo6U4M8B7"
      },
      "source": [
        "2.\tWrite a Python program to do arithmetical operations addition and division.?"
      ]
    },
    {
      "cell_type": "code",
      "metadata": {
        "colab": {
          "base_uri": "https://localhost:8080/"
        },
        "id": "9IGeXFSbM90W",
        "outputId": "43935bcc-71c2-44f2-88f3-b8cc59a4a32a"
      },
      "source": [
        "def addition(x,y):\n",
        "   addition=x+y\n",
        "   print( addition)\n",
        "addition(3,4)\n",
        "\n",
        "def division(x,y):\n",
        "   division=x/y\n",
        "   print( division)\n",
        "division(3,4)"
      ],
      "execution_count": null,
      "outputs": [
        {
          "output_type": "stream",
          "name": "stdout",
          "text": [
            "7\n",
            "0.75\n"
          ]
        }
      ]
    },
    {
      "cell_type": "markdown",
      "metadata": {
        "id": "PaYNvSs8P1W3"
      },
      "source": [
        "3.\tWrite a Python program to find the area of a triangle?"
      ]
    },
    {
      "cell_type": "code",
      "metadata": {
        "id": "VJ26_VGMNovC",
        "colab": {
          "base_uri": "https://localhost:8080/"
        },
        "outputId": "a2e13c0d-a52e-4ee2-b41d-05ea1d107a7e"
      },
      "source": [
        "def area_triangle(b,h):\n",
        "  area= 0.5*b*h\n",
        "  print(area)\n",
        "\n",
        "area_triangle(10,5)  "
      ],
      "execution_count": null,
      "outputs": [
        {
          "output_type": "stream",
          "name": "stdout",
          "text": [
            "25.0\n"
          ]
        }
      ]
    },
    {
      "cell_type": "markdown",
      "metadata": {
        "id": "XDfnY1TbSWJb"
      },
      "source": [
        "#5.\tWrite a Python program to generate a random number?"
      ]
    },
    {
      "cell_type": "code",
      "metadata": {
        "colab": {
          "base_uri": "https://localhost:8080/"
        },
        "id": "UnyW-KilQNZj",
        "outputId": "24fd6bff-67b6-4e78-80b4-ad146febc893"
      },
      "source": [
        "import random\n",
        "def gen_random():\n",
        "  gen_random=random.random()\n",
        "  print(gen_random)\n",
        "gen_random()"
      ],
      "execution_count": null,
      "outputs": [
        {
          "output_type": "stream",
          "name": "stdout",
          "text": [
            "0.888017929239485\n"
          ]
        }
      ]
    },
    {
      "cell_type": "code",
      "metadata": {
        "id": "a9kkgf6RScBM"
      },
      "source": [
        ""
      ],
      "execution_count": null,
      "outputs": []
    }
  ]
}